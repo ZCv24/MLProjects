{
  "nbformat": 4,
  "nbformat_minor": 0,
  "metadata": {
    "colab": {
      "provenance": []
    },
    "kernelspec": {
      "name": "python3",
      "display_name": "Python 3"
    },
    "language_info": {
      "name": "python"
    }
  },
  "cells": [
    {
      "cell_type": "markdown",
      "source": [
        "# Get dataset (Spam Ham Dataset)\n"
      ],
      "metadata": {
        "id": "cUNjcGJcIaJe"
      }
    },
    {
      "cell_type": "code",
      "execution_count": null,
      "metadata": {
        "id": "xQYj78lKHYP2",
        "colab": {
          "base_uri": "https://localhost:8080/",
          "height": 90
        },
        "outputId": "ff9ac675-aa14-4eb5-c0ca-15e991edece3"
      },
      "outputs": [
        {
          "output_type": "display_data",
          "data": {
            "text/plain": [
              "<IPython.core.display.HTML object>"
            ],
            "text/html": [
              "\n",
              "     <input type=\"file\" id=\"files-f18f6591-2dff-4380-a31c-fca7285328a4\" name=\"files[]\" multiple disabled\n",
              "        style=\"border:none\" />\n",
              "     <output id=\"result-f18f6591-2dff-4380-a31c-fca7285328a4\">\n",
              "      Upload widget is only available when the cell has been executed in the\n",
              "      current browser session. Please rerun this cell to enable.\n",
              "      </output>\n",
              "      <script>// Copyright 2017 Google LLC\n",
              "//\n",
              "// Licensed under the Apache License, Version 2.0 (the \"License\");\n",
              "// you may not use this file except in compliance with the License.\n",
              "// You may obtain a copy of the License at\n",
              "//\n",
              "//      http://www.apache.org/licenses/LICENSE-2.0\n",
              "//\n",
              "// Unless required by applicable law or agreed to in writing, software\n",
              "// distributed under the License is distributed on an \"AS IS\" BASIS,\n",
              "// WITHOUT WARRANTIES OR CONDITIONS OF ANY KIND, either express or implied.\n",
              "// See the License for the specific language governing permissions and\n",
              "// limitations under the License.\n",
              "\n",
              "/**\n",
              " * @fileoverview Helpers for google.colab Python module.\n",
              " */\n",
              "(function(scope) {\n",
              "function span(text, styleAttributes = {}) {\n",
              "  const element = document.createElement('span');\n",
              "  element.textContent = text;\n",
              "  for (const key of Object.keys(styleAttributes)) {\n",
              "    element.style[key] = styleAttributes[key];\n",
              "  }\n",
              "  return element;\n",
              "}\n",
              "\n",
              "// Max number of bytes which will be uploaded at a time.\n",
              "const MAX_PAYLOAD_SIZE = 100 * 1024;\n",
              "\n",
              "function _uploadFiles(inputId, outputId) {\n",
              "  const steps = uploadFilesStep(inputId, outputId);\n",
              "  const outputElement = document.getElementById(outputId);\n",
              "  // Cache steps on the outputElement to make it available for the next call\n",
              "  // to uploadFilesContinue from Python.\n",
              "  outputElement.steps = steps;\n",
              "\n",
              "  return _uploadFilesContinue(outputId);\n",
              "}\n",
              "\n",
              "// This is roughly an async generator (not supported in the browser yet),\n",
              "// where there are multiple asynchronous steps and the Python side is going\n",
              "// to poll for completion of each step.\n",
              "// This uses a Promise to block the python side on completion of each step,\n",
              "// then passes the result of the previous step as the input to the next step.\n",
              "function _uploadFilesContinue(outputId) {\n",
              "  const outputElement = document.getElementById(outputId);\n",
              "  const steps = outputElement.steps;\n",
              "\n",
              "  const next = steps.next(outputElement.lastPromiseValue);\n",
              "  return Promise.resolve(next.value.promise).then((value) => {\n",
              "    // Cache the last promise value to make it available to the next\n",
              "    // step of the generator.\n",
              "    outputElement.lastPromiseValue = value;\n",
              "    return next.value.response;\n",
              "  });\n",
              "}\n",
              "\n",
              "/**\n",
              " * Generator function which is called between each async step of the upload\n",
              " * process.\n",
              " * @param {string} inputId Element ID of the input file picker element.\n",
              " * @param {string} outputId Element ID of the output display.\n",
              " * @return {!Iterable<!Object>} Iterable of next steps.\n",
              " */\n",
              "function* uploadFilesStep(inputId, outputId) {\n",
              "  const inputElement = document.getElementById(inputId);\n",
              "  inputElement.disabled = false;\n",
              "\n",
              "  const outputElement = document.getElementById(outputId);\n",
              "  outputElement.innerHTML = '';\n",
              "\n",
              "  const pickedPromise = new Promise((resolve) => {\n",
              "    inputElement.addEventListener('change', (e) => {\n",
              "      resolve(e.target.files);\n",
              "    });\n",
              "  });\n",
              "\n",
              "  const cancel = document.createElement('button');\n",
              "  inputElement.parentElement.appendChild(cancel);\n",
              "  cancel.textContent = 'Cancel upload';\n",
              "  const cancelPromise = new Promise((resolve) => {\n",
              "    cancel.onclick = () => {\n",
              "      resolve(null);\n",
              "    };\n",
              "  });\n",
              "\n",
              "  // Wait for the user to pick the files.\n",
              "  const files = yield {\n",
              "    promise: Promise.race([pickedPromise, cancelPromise]),\n",
              "    response: {\n",
              "      action: 'starting',\n",
              "    }\n",
              "  };\n",
              "\n",
              "  cancel.remove();\n",
              "\n",
              "  // Disable the input element since further picks are not allowed.\n",
              "  inputElement.disabled = true;\n",
              "\n",
              "  if (!files) {\n",
              "    return {\n",
              "      response: {\n",
              "        action: 'complete',\n",
              "      }\n",
              "    };\n",
              "  }\n",
              "\n",
              "  for (const file of files) {\n",
              "    const li = document.createElement('li');\n",
              "    li.append(span(file.name, {fontWeight: 'bold'}));\n",
              "    li.append(span(\n",
              "        `(${file.type || 'n/a'}) - ${file.size} bytes, ` +\n",
              "        `last modified: ${\n",
              "            file.lastModifiedDate ? file.lastModifiedDate.toLocaleDateString() :\n",
              "                                    'n/a'} - `));\n",
              "    const percent = span('0% done');\n",
              "    li.appendChild(percent);\n",
              "\n",
              "    outputElement.appendChild(li);\n",
              "\n",
              "    const fileDataPromise = new Promise((resolve) => {\n",
              "      const reader = new FileReader();\n",
              "      reader.onload = (e) => {\n",
              "        resolve(e.target.result);\n",
              "      };\n",
              "      reader.readAsArrayBuffer(file);\n",
              "    });\n",
              "    // Wait for the data to be ready.\n",
              "    let fileData = yield {\n",
              "      promise: fileDataPromise,\n",
              "      response: {\n",
              "        action: 'continue',\n",
              "      }\n",
              "    };\n",
              "\n",
              "    // Use a chunked sending to avoid message size limits. See b/62115660.\n",
              "    let position = 0;\n",
              "    do {\n",
              "      const length = Math.min(fileData.byteLength - position, MAX_PAYLOAD_SIZE);\n",
              "      const chunk = new Uint8Array(fileData, position, length);\n",
              "      position += length;\n",
              "\n",
              "      const base64 = btoa(String.fromCharCode.apply(null, chunk));\n",
              "      yield {\n",
              "        response: {\n",
              "          action: 'append',\n",
              "          file: file.name,\n",
              "          data: base64,\n",
              "        },\n",
              "      };\n",
              "\n",
              "      let percentDone = fileData.byteLength === 0 ?\n",
              "          100 :\n",
              "          Math.round((position / fileData.byteLength) * 100);\n",
              "      percent.textContent = `${percentDone}% done`;\n",
              "\n",
              "    } while (position < fileData.byteLength);\n",
              "  }\n",
              "\n",
              "  // All done.\n",
              "  yield {\n",
              "    response: {\n",
              "      action: 'complete',\n",
              "    }\n",
              "  };\n",
              "}\n",
              "\n",
              "scope.google = scope.google || {};\n",
              "scope.google.colab = scope.google.colab || {};\n",
              "scope.google.colab._files = {\n",
              "  _uploadFiles,\n",
              "  _uploadFilesContinue,\n",
              "};\n",
              "})(self);\n",
              "</script> "
            ]
          },
          "metadata": {}
        },
        {
          "output_type": "stream",
          "name": "stdout",
          "text": [
            "Saving kaggle.json to kaggle.json\n"
          ]
        },
        {
          "output_type": "execute_result",
          "data": {
            "text/plain": [
              "{'kaggle.json': b'{\"username\":\"nakshatra22mai0037\",\"key\":\"a81bab0c7c164b351d1a172fe2d4c12c\"}'}"
            ]
          },
          "metadata": {},
          "execution_count": 1
        }
      ],
      "source": [
        "! pip install -q kaggle\n",
        "\n",
        "from google.colab import files\n",
        "files.upload()"
      ]
    },
    {
      "cell_type": "code",
      "source": [
        "# get data from kaggle\n",
        "! mkdir ~/.kaggle\n",
        "! cp kaggle.json ~/.kaggle/\n",
        "! chmod 600 ~/.kaggle/kaggle.json\n",
        "! kaggle datasets download venky73/spam-mails-dataset"
      ],
      "metadata": {
        "colab": {
          "base_uri": "https://localhost:8080/"
        },
        "id": "c-XpR7kgHhz5",
        "outputId": "c2ae7c94-246c-46d8-f4cd-4f051f453f81"
      },
      "execution_count": null,
      "outputs": [
        {
          "output_type": "stream",
          "name": "stdout",
          "text": [
            "Downloading spam-mails-dataset.zip to /content\n",
            "\r  0% 0.00/1.86M [00:00<?, ?B/s]\n",
            "\r100% 1.86M/1.86M [00:00<00:00, 147MB/s]\n"
          ]
        }
      ]
    },
    {
      "cell_type": "code",
      "source": [
        "#unzip data\n",
        "! unzip /content/spam-mails-dataset.zip -d /content/"
      ],
      "metadata": {
        "colab": {
          "base_uri": "https://localhost:8080/"
        },
        "id": "Bpt_m0R2IOm5",
        "outputId": "4d841a10-54fd-46f0-b18b-ce8dcaafa883"
      },
      "execution_count": null,
      "outputs": [
        {
          "output_type": "stream",
          "name": "stdout",
          "text": [
            "Archive:  /content/spam-mails-dataset.zip\n",
            "  inflating: /content/spam_ham_dataset.csv  \n"
          ]
        }
      ]
    },
    {
      "cell_type": "code",
      "source": [
        "import numpy as np\n",
        "import pandas as pd\n",
        "\n",
        "emails = pd.read_csv(\"/content/spam_ham_dataset.csv\")\n",
        "emails"
      ],
      "metadata": {
        "colab": {
          "base_uri": "https://localhost:8080/",
          "height": 424
        },
        "id": "lu5eFdB0IWoo",
        "outputId": "14030be0-14ee-4a00-a1fe-3a44b9e8cde8"
      },
      "execution_count": null,
      "outputs": [
        {
          "output_type": "execute_result",
          "data": {
            "text/plain": [
              "      Unnamed: 0 label                                               text  \\\n",
              "0            605   ham  Subject: enron methanol ; meter # : 988291\\r\\n...   \n",
              "1           2349   ham  Subject: hpl nom for january 9 , 2001\\r\\n( see...   \n",
              "2           3624   ham  Subject: neon retreat\\r\\nho ho ho , we ' re ar...   \n",
              "3           4685  spam  Subject: photoshop , windows , office . cheap ...   \n",
              "4           2030   ham  Subject: re : indian springs\\r\\nthis deal is t...   \n",
              "...          ...   ...                                                ...   \n",
              "5166        1518   ham  Subject: put the 10 on the ft\\r\\nthe transport...   \n",
              "5167         404   ham  Subject: 3 / 4 / 2000 and following noms\\r\\nhp...   \n",
              "5168        2933   ham  Subject: calpine daily gas nomination\\r\\n>\\r\\n...   \n",
              "5169        1409   ham  Subject: industrial worksheets for august 2000...   \n",
              "5170        4807  spam  Subject: important online banking alert\\r\\ndea...   \n",
              "\n",
              "      label_num  \n",
              "0             0  \n",
              "1             0  \n",
              "2             0  \n",
              "3             1  \n",
              "4             0  \n",
              "...         ...  \n",
              "5166          0  \n",
              "5167          0  \n",
              "5168          0  \n",
              "5169          0  \n",
              "5170          1  \n",
              "\n",
              "[5171 rows x 4 columns]"
            ],
            "text/html": [
              "\n",
              "  <div id=\"df-01e32d43-2d81-4d9b-a4cc-fb36047cee12\">\n",
              "    <div class=\"colab-df-container\">\n",
              "      <div>\n",
              "<style scoped>\n",
              "    .dataframe tbody tr th:only-of-type {\n",
              "        vertical-align: middle;\n",
              "    }\n",
              "\n",
              "    .dataframe tbody tr th {\n",
              "        vertical-align: top;\n",
              "    }\n",
              "\n",
              "    .dataframe thead th {\n",
              "        text-align: right;\n",
              "    }\n",
              "</style>\n",
              "<table border=\"1\" class=\"dataframe\">\n",
              "  <thead>\n",
              "    <tr style=\"text-align: right;\">\n",
              "      <th></th>\n",
              "      <th>Unnamed: 0</th>\n",
              "      <th>label</th>\n",
              "      <th>text</th>\n",
              "      <th>label_num</th>\n",
              "    </tr>\n",
              "  </thead>\n",
              "  <tbody>\n",
              "    <tr>\n",
              "      <th>0</th>\n",
              "      <td>605</td>\n",
              "      <td>ham</td>\n",
              "      <td>Subject: enron methanol ; meter # : 988291\\r\\n...</td>\n",
              "      <td>0</td>\n",
              "    </tr>\n",
              "    <tr>\n",
              "      <th>1</th>\n",
              "      <td>2349</td>\n",
              "      <td>ham</td>\n",
              "      <td>Subject: hpl nom for january 9 , 2001\\r\\n( see...</td>\n",
              "      <td>0</td>\n",
              "    </tr>\n",
              "    <tr>\n",
              "      <th>2</th>\n",
              "      <td>3624</td>\n",
              "      <td>ham</td>\n",
              "      <td>Subject: neon retreat\\r\\nho ho ho , we ' re ar...</td>\n",
              "      <td>0</td>\n",
              "    </tr>\n",
              "    <tr>\n",
              "      <th>3</th>\n",
              "      <td>4685</td>\n",
              "      <td>spam</td>\n",
              "      <td>Subject: photoshop , windows , office . cheap ...</td>\n",
              "      <td>1</td>\n",
              "    </tr>\n",
              "    <tr>\n",
              "      <th>4</th>\n",
              "      <td>2030</td>\n",
              "      <td>ham</td>\n",
              "      <td>Subject: re : indian springs\\r\\nthis deal is t...</td>\n",
              "      <td>0</td>\n",
              "    </tr>\n",
              "    <tr>\n",
              "      <th>...</th>\n",
              "      <td>...</td>\n",
              "      <td>...</td>\n",
              "      <td>...</td>\n",
              "      <td>...</td>\n",
              "    </tr>\n",
              "    <tr>\n",
              "      <th>5166</th>\n",
              "      <td>1518</td>\n",
              "      <td>ham</td>\n",
              "      <td>Subject: put the 10 on the ft\\r\\nthe transport...</td>\n",
              "      <td>0</td>\n",
              "    </tr>\n",
              "    <tr>\n",
              "      <th>5167</th>\n",
              "      <td>404</td>\n",
              "      <td>ham</td>\n",
              "      <td>Subject: 3 / 4 / 2000 and following noms\\r\\nhp...</td>\n",
              "      <td>0</td>\n",
              "    </tr>\n",
              "    <tr>\n",
              "      <th>5168</th>\n",
              "      <td>2933</td>\n",
              "      <td>ham</td>\n",
              "      <td>Subject: calpine daily gas nomination\\r\\n&gt;\\r\\n...</td>\n",
              "      <td>0</td>\n",
              "    </tr>\n",
              "    <tr>\n",
              "      <th>5169</th>\n",
              "      <td>1409</td>\n",
              "      <td>ham</td>\n",
              "      <td>Subject: industrial worksheets for august 2000...</td>\n",
              "      <td>0</td>\n",
              "    </tr>\n",
              "    <tr>\n",
              "      <th>5170</th>\n",
              "      <td>4807</td>\n",
              "      <td>spam</td>\n",
              "      <td>Subject: important online banking alert\\r\\ndea...</td>\n",
              "      <td>1</td>\n",
              "    </tr>\n",
              "  </tbody>\n",
              "</table>\n",
              "<p>5171 rows × 4 columns</p>\n",
              "</div>\n",
              "      <button class=\"colab-df-convert\" onclick=\"convertToInteractive('df-01e32d43-2d81-4d9b-a4cc-fb36047cee12')\"\n",
              "              title=\"Convert this dataframe to an interactive table.\"\n",
              "              style=\"display:none;\">\n",
              "        \n",
              "  <svg xmlns=\"http://www.w3.org/2000/svg\" height=\"24px\"viewBox=\"0 0 24 24\"\n",
              "       width=\"24px\">\n",
              "    <path d=\"M0 0h24v24H0V0z\" fill=\"none\"/>\n",
              "    <path d=\"M18.56 5.44l.94 2.06.94-2.06 2.06-.94-2.06-.94-.94-2.06-.94 2.06-2.06.94zm-11 1L8.5 8.5l.94-2.06 2.06-.94-2.06-.94L8.5 2.5l-.94 2.06-2.06.94zm10 10l.94 2.06.94-2.06 2.06-.94-2.06-.94-.94-2.06-.94 2.06-2.06.94z\"/><path d=\"M17.41 7.96l-1.37-1.37c-.4-.4-.92-.59-1.43-.59-.52 0-1.04.2-1.43.59L10.3 9.45l-7.72 7.72c-.78.78-.78 2.05 0 2.83L4 21.41c.39.39.9.59 1.41.59.51 0 1.02-.2 1.41-.59l7.78-7.78 2.81-2.81c.8-.78.8-2.07 0-2.86zM5.41 20L4 18.59l7.72-7.72 1.47 1.35L5.41 20z\"/>\n",
              "  </svg>\n",
              "      </button>\n",
              "      \n",
              "  <style>\n",
              "    .colab-df-container {\n",
              "      display:flex;\n",
              "      flex-wrap:wrap;\n",
              "      gap: 12px;\n",
              "    }\n",
              "\n",
              "    .colab-df-convert {\n",
              "      background-color: #E8F0FE;\n",
              "      border: none;\n",
              "      border-radius: 50%;\n",
              "      cursor: pointer;\n",
              "      display: none;\n",
              "      fill: #1967D2;\n",
              "      height: 32px;\n",
              "      padding: 0 0 0 0;\n",
              "      width: 32px;\n",
              "    }\n",
              "\n",
              "    .colab-df-convert:hover {\n",
              "      background-color: #E2EBFA;\n",
              "      box-shadow: 0px 1px 2px rgba(60, 64, 67, 0.3), 0px 1px 3px 1px rgba(60, 64, 67, 0.15);\n",
              "      fill: #174EA6;\n",
              "    }\n",
              "\n",
              "    [theme=dark] .colab-df-convert {\n",
              "      background-color: #3B4455;\n",
              "      fill: #D2E3FC;\n",
              "    }\n",
              "\n",
              "    [theme=dark] .colab-df-convert:hover {\n",
              "      background-color: #434B5C;\n",
              "      box-shadow: 0px 1px 3px 1px rgba(0, 0, 0, 0.15);\n",
              "      filter: drop-shadow(0px 1px 2px rgba(0, 0, 0, 0.3));\n",
              "      fill: #FFFFFF;\n",
              "    }\n",
              "  </style>\n",
              "\n",
              "      <script>\n",
              "        const buttonEl =\n",
              "          document.querySelector('#df-01e32d43-2d81-4d9b-a4cc-fb36047cee12 button.colab-df-convert');\n",
              "        buttonEl.style.display =\n",
              "          google.colab.kernel.accessAllowed ? 'block' : 'none';\n",
              "\n",
              "        async function convertToInteractive(key) {\n",
              "          const element = document.querySelector('#df-01e32d43-2d81-4d9b-a4cc-fb36047cee12');\n",
              "          const dataTable =\n",
              "            await google.colab.kernel.invokeFunction('convertToInteractive',\n",
              "                                                     [key], {});\n",
              "          if (!dataTable) return;\n",
              "\n",
              "          const docLinkHtml = 'Like what you see? Visit the ' +\n",
              "            '<a target=\"_blank\" href=https://colab.research.google.com/notebooks/data_table.ipynb>data table notebook</a>'\n",
              "            + ' to learn more about interactive tables.';\n",
              "          element.innerHTML = '';\n",
              "          dataTable['output_type'] = 'display_data';\n",
              "          await google.colab.output.renderOutput(dataTable, element);\n",
              "          const docLink = document.createElement('div');\n",
              "          docLink.innerHTML = docLinkHtml;\n",
              "          element.appendChild(docLink);\n",
              "        }\n",
              "      </script>\n",
              "    </div>\n",
              "  </div>\n",
              "  "
            ]
          },
          "metadata": {},
          "execution_count": 4
        }
      ]
    },
    {
      "cell_type": "code",
      "source": [
        "def get_email_subject(email):\n",
        "    subject = email[0:email.find('\\r\\n')]\n",
        "    subject = subject. replace('Subject: ', '')\n",
        "    return subject\n",
        "\n",
        "def get_email_body(email):\n",
        "    body = email[email.find('\\r\\n')+2:]\n",
        "    return body"
      ],
      "metadata": {
        "id": "1XPeECIDLwDQ"
      },
      "execution_count": null,
      "outputs": []
    },
    {
      "cell_type": "code",
      "source": [
        "# cleaning of columns\n",
        "email_df = emails.drop(['Unnamed: 0', \"label_num\"], axis = 1)\n",
        "\n",
        "# get the subject and body of email\n",
        "email_df[\"subject\"] = email_df[\"text\"].apply(lambda x: get_email_subject(x))\n",
        "email_df[\"body\"] = email_df[\"text\"].apply(lambda x: get_email_body(x))\n",
        "\n",
        "# ridding of the text column (unless we need it)\n",
        "email_df = email_df.drop([\"text\"], axis = 1)\n",
        "\n",
        "email_df\n",
        "\n",
        "# expand default pandas display options to make emails more clearly visible when printed\n",
        "pd.set_option('display.max_colwidth', 200)\n",
        "\n",
        "# email_df is new our dataframe\n",
        "email_df.head()"
      ],
      "metadata": {
        "colab": {
          "base_uri": "https://localhost:8080/",
          "height": 206
        },
        "id": "zmvGnQ_DLnQx",
        "outputId": "a8ace2cd-91af-4906-af56-144d29b74497"
      },
      "execution_count": null,
      "outputs": [
        {
          "output_type": "execute_result",
          "data": {
            "text/plain": [
              "  label                                               subject  \\\n",
              "0   ham                     enron methanol ; meter # : 988291   \n",
              "1   ham                          hpl nom for january 9 , 2001   \n",
              "2   ham                                          neon retreat   \n",
              "3  spam  photoshop , windows , office . cheap . main trending   \n",
              "4   ham                                   re : indian springs   \n",
              "\n",
              "                                                                                                                                                                                                      body  \n",
              "0  this is a follow up to the note i gave you on monday , 4 / 3 / 00 { preliminary\\r\\nflow data provided by daren } .\\r\\nplease override pop ' s daily volume { presently zero } to reflect daily\\r\\nac...  \n",
              "1                                                                                                                                             ( see attached file : hplnol 09 . xls )\\r\\n- hplnol 09 . xls  \n",
              "2  ho ho ho , we ' re around to that most wonderful time of the year - - - neon leaders retreat time !\\r\\ni know that this time of year is extremely hectic , and that it ' s tough to think about anyt...  \n",
              "3  abasements darer prudently fortuitous undergone\\r\\nlighthearted charm orinoco taster\\r\\nrailroad affluent pornographic cuvier\\r\\nirvin parkhouse blameworthy chlorophyll\\r\\nrobed diagrammatic fogar...  \n",
              "4  this deal is to book the teco pvr revenue . it is my understanding that teco\\r\\njust sends us a check , i haven ' t received an answer as to whether there is a\\r\\npredermined price associated with...  "
            ],
            "text/html": [
              "\n",
              "  <div id=\"df-4f0186ac-df83-4f0d-91ff-4f9b18ed8843\">\n",
              "    <div class=\"colab-df-container\">\n",
              "      <div>\n",
              "<style scoped>\n",
              "    .dataframe tbody tr th:only-of-type {\n",
              "        vertical-align: middle;\n",
              "    }\n",
              "\n",
              "    .dataframe tbody tr th {\n",
              "        vertical-align: top;\n",
              "    }\n",
              "\n",
              "    .dataframe thead th {\n",
              "        text-align: right;\n",
              "    }\n",
              "</style>\n",
              "<table border=\"1\" class=\"dataframe\">\n",
              "  <thead>\n",
              "    <tr style=\"text-align: right;\">\n",
              "      <th></th>\n",
              "      <th>label</th>\n",
              "      <th>subject</th>\n",
              "      <th>body</th>\n",
              "    </tr>\n",
              "  </thead>\n",
              "  <tbody>\n",
              "    <tr>\n",
              "      <th>0</th>\n",
              "      <td>ham</td>\n",
              "      <td>enron methanol ; meter # : 988291</td>\n",
              "      <td>this is a follow up to the note i gave you on monday , 4 / 3 / 00 { preliminary\\r\\nflow data provided by daren } .\\r\\nplease override pop ' s daily volume { presently zero } to reflect daily\\r\\nac...</td>\n",
              "    </tr>\n",
              "    <tr>\n",
              "      <th>1</th>\n",
              "      <td>ham</td>\n",
              "      <td>hpl nom for january 9 , 2001</td>\n",
              "      <td>( see attached file : hplnol 09 . xls )\\r\\n- hplnol 09 . xls</td>\n",
              "    </tr>\n",
              "    <tr>\n",
              "      <th>2</th>\n",
              "      <td>ham</td>\n",
              "      <td>neon retreat</td>\n",
              "      <td>ho ho ho , we ' re around to that most wonderful time of the year - - - neon leaders retreat time !\\r\\ni know that this time of year is extremely hectic , and that it ' s tough to think about anyt...</td>\n",
              "    </tr>\n",
              "    <tr>\n",
              "      <th>3</th>\n",
              "      <td>spam</td>\n",
              "      <td>photoshop , windows , office . cheap . main trending</td>\n",
              "      <td>abasements darer prudently fortuitous undergone\\r\\nlighthearted charm orinoco taster\\r\\nrailroad affluent pornographic cuvier\\r\\nirvin parkhouse blameworthy chlorophyll\\r\\nrobed diagrammatic fogar...</td>\n",
              "    </tr>\n",
              "    <tr>\n",
              "      <th>4</th>\n",
              "      <td>ham</td>\n",
              "      <td>re : indian springs</td>\n",
              "      <td>this deal is to book the teco pvr revenue . it is my understanding that teco\\r\\njust sends us a check , i haven ' t received an answer as to whether there is a\\r\\npredermined price associated with...</td>\n",
              "    </tr>\n",
              "  </tbody>\n",
              "</table>\n",
              "</div>\n",
              "      <button class=\"colab-df-convert\" onclick=\"convertToInteractive('df-4f0186ac-df83-4f0d-91ff-4f9b18ed8843')\"\n",
              "              title=\"Convert this dataframe to an interactive table.\"\n",
              "              style=\"display:none;\">\n",
              "        \n",
              "  <svg xmlns=\"http://www.w3.org/2000/svg\" height=\"24px\"viewBox=\"0 0 24 24\"\n",
              "       width=\"24px\">\n",
              "    <path d=\"M0 0h24v24H0V0z\" fill=\"none\"/>\n",
              "    <path d=\"M18.56 5.44l.94 2.06.94-2.06 2.06-.94-2.06-.94-.94-2.06-.94 2.06-2.06.94zm-11 1L8.5 8.5l.94-2.06 2.06-.94-2.06-.94L8.5 2.5l-.94 2.06-2.06.94zm10 10l.94 2.06.94-2.06 2.06-.94-2.06-.94-.94-2.06-.94 2.06-2.06.94z\"/><path d=\"M17.41 7.96l-1.37-1.37c-.4-.4-.92-.59-1.43-.59-.52 0-1.04.2-1.43.59L10.3 9.45l-7.72 7.72c-.78.78-.78 2.05 0 2.83L4 21.41c.39.39.9.59 1.41.59.51 0 1.02-.2 1.41-.59l7.78-7.78 2.81-2.81c.8-.78.8-2.07 0-2.86zM5.41 20L4 18.59l7.72-7.72 1.47 1.35L5.41 20z\"/>\n",
              "  </svg>\n",
              "      </button>\n",
              "      \n",
              "  <style>\n",
              "    .colab-df-container {\n",
              "      display:flex;\n",
              "      flex-wrap:wrap;\n",
              "      gap: 12px;\n",
              "    }\n",
              "\n",
              "    .colab-df-convert {\n",
              "      background-color: #E8F0FE;\n",
              "      border: none;\n",
              "      border-radius: 50%;\n",
              "      cursor: pointer;\n",
              "      display: none;\n",
              "      fill: #1967D2;\n",
              "      height: 32px;\n",
              "      padding: 0 0 0 0;\n",
              "      width: 32px;\n",
              "    }\n",
              "\n",
              "    .colab-df-convert:hover {\n",
              "      background-color: #E2EBFA;\n",
              "      box-shadow: 0px 1px 2px rgba(60, 64, 67, 0.3), 0px 1px 3px 1px rgba(60, 64, 67, 0.15);\n",
              "      fill: #174EA6;\n",
              "    }\n",
              "\n",
              "    [theme=dark] .colab-df-convert {\n",
              "      background-color: #3B4455;\n",
              "      fill: #D2E3FC;\n",
              "    }\n",
              "\n",
              "    [theme=dark] .colab-df-convert:hover {\n",
              "      background-color: #434B5C;\n",
              "      box-shadow: 0px 1px 3px 1px rgba(0, 0, 0, 0.15);\n",
              "      filter: drop-shadow(0px 1px 2px rgba(0, 0, 0, 0.3));\n",
              "      fill: #FFFFFF;\n",
              "    }\n",
              "  </style>\n",
              "\n",
              "      <script>\n",
              "        const buttonEl =\n",
              "          document.querySelector('#df-4f0186ac-df83-4f0d-91ff-4f9b18ed8843 button.colab-df-convert');\n",
              "        buttonEl.style.display =\n",
              "          google.colab.kernel.accessAllowed ? 'block' : 'none';\n",
              "\n",
              "        async function convertToInteractive(key) {\n",
              "          const element = document.querySelector('#df-4f0186ac-df83-4f0d-91ff-4f9b18ed8843');\n",
              "          const dataTable =\n",
              "            await google.colab.kernel.invokeFunction('convertToInteractive',\n",
              "                                                     [key], {});\n",
              "          if (!dataTable) return;\n",
              "\n",
              "          const docLinkHtml = 'Like what you see? Visit the ' +\n",
              "            '<a target=\"_blank\" href=https://colab.research.google.com/notebooks/data_table.ipynb>data table notebook</a>'\n",
              "            + ' to learn more about interactive tables.';\n",
              "          element.innerHTML = '';\n",
              "          dataTable['output_type'] = 'display_data';\n",
              "          await google.colab.output.renderOutput(dataTable, element);\n",
              "          const docLink = document.createElement('div');\n",
              "          docLink.innerHTML = docLinkHtml;\n",
              "          element.appendChild(docLink);\n",
              "        }\n",
              "      </script>\n",
              "    </div>\n",
              "  </div>\n",
              "  "
            ]
          },
          "metadata": {},
          "execution_count": 6
        }
      ]
    },
    {
      "cell_type": "markdown",
      "source": [
        "# Text/Data Pre-processing"
      ],
      "metadata": {
        "id": "_cw-Cf5SMd2a"
      }
    },
    {
      "cell_type": "code",
      "source": [
        "# hyperparameters \n",
        "maxtokens = 200 # the maximum number of tokens per document\n",
        "maxtokenlen = 100 # the maximum length of each token"
      ],
      "metadata": {
        "id": "0U92elQDJk_l"
      },
      "execution_count": null,
      "outputs": []
    },
    {
      "cell_type": "code",
      "source": [
        "# Tokenization method 1\n",
        "# this is tokenization split by white space\n",
        "def tokenize_1(row):\n",
        "    if row is None or row is '':\n",
        "        tokens = \"\"\n",
        "    else:\n",
        "        tokens = str(row).split(\" \")[:maxtokens]\n",
        "    return tokens"
      ],
      "metadata": {
        "colab": {
          "base_uri": "https://localhost:8080/"
        },
        "id": "593KZyBiKY1j",
        "outputId": "64a2e103-22d5-49a8-a158-61bfbd529f95"
      },
      "execution_count": null,
      "outputs": [
        {
          "output_type": "stream",
          "name": "stderr",
          "text": [
            "<>:4: SyntaxWarning: \"is\" with a literal. Did you mean \"==\"?\n",
            "<>:4: SyntaxWarning: \"is\" with a literal. Did you mean \"==\"?\n",
            "<ipython-input-8-c38cb2de81e0>:4: SyntaxWarning: \"is\" with a literal. Did you mean \"==\"?\n",
            "  if row is None or row is '':\n"
          ]
        }
      ]
    },
    {
      "cell_type": "code",
      "source": [
        "from nltk.tokenize import word_tokenize, wordpunct_tokenize"
      ],
      "metadata": {
        "id": "gUYbYGOFKa2J"
      },
      "execution_count": null,
      "outputs": []
    },
    {
      "cell_type": "code",
      "source": [
        "# Tokenization method 2\n",
        "# split of white space AND punctuation $3.88 --> '3', '.', '88'\n",
        "def tokenize_2(row):\n",
        "    return wordpunct_tokenize(str(row))[:maxtokens]"
      ],
      "metadata": {
        "id": "TBrsGS0ZKc-h"
      },
      "execution_count": null,
      "outputs": []
    },
    {
      "cell_type": "code",
      "source": [
        "import re\n",
        "# this covers lower() tokens\n",
        "def reg_expressions(row):\n",
        "    row = re.sub(r'[\\r\\n]', \"\", row)\n",
        "    return row"
      ],
      "metadata": {
        "id": "hYolu2DyKgIQ"
      },
      "execution_count": null,
      "outputs": []
    },
    {
      "cell_type": "code",
      "source": [
        "import nltk\n",
        "nltk.download('stopwords')\n",
        "stopwords = nltk.corpus.stopwords.words('english')\n",
        "print(stopwords[:10])\n",
        "\n",
        "def stop_word_removal(row):\n",
        "    token = [token for token in row if token not in stopwords]\n",
        "    return token"
      ],
      "metadata": {
        "colab": {
          "base_uri": "https://localhost:8080/"
        },
        "id": "cIT4SOYcKiwx",
        "outputId": "caa5200d-d7a5-4edd-f7b0-d3f0b0b8d3da"
      },
      "execution_count": null,
      "outputs": [
        {
          "output_type": "stream",
          "name": "stdout",
          "text": [
            "['i', 'me', 'my', 'myself', 'we', 'our', 'ours', 'ourselves', 'you', \"you're\"]\n"
          ]
        },
        {
          "output_type": "stream",
          "name": "stderr",
          "text": [
            "[nltk_data] Downloading package stopwords to /root/nltk_data...\n",
            "[nltk_data]   Unzipping corpora/stopwords.zip.\n"
          ]
        }
      ]
    },
    {
      "cell_type": "code",
      "source": [
        "def stemming(row):\n",
        "    port_stemmer = nltk.stem.porter.PorterStemmer()\n",
        "    token = [port_stemmer.stem(token) for token in row]\n",
        "    return token"
      ],
      "metadata": {
        "id": "bvB3H1hNKkeZ"
      },
      "execution_count": null,
      "outputs": []
    },
    {
      "cell_type": "code",
      "source": [
        "def lemmatization(row):\n",
        "    lem = nltk.stem.wordnet.WordNetLemmatizer()\n",
        "    token = [lem.lemmatize(token) for token in row]\n",
        "    return token"
      ],
      "metadata": {
        "id": "K9Lw4HvnK3I2"
      },
      "execution_count": null,
      "outputs": []
    },
    {
      "cell_type": "code",
      "source": [
        "'''\n",
        "Preprocess a string.\n",
        ":parameter\n",
        "    :param text: string - name of column containing text\n",
        "    :param lst_stopwords: list - list of stopwords to remove\n",
        "    :param flg_stemm: bool - whether stemming is to be applied\n",
        "    :param flg_lemm: bool - whether lemmitisation is to be applied\n",
        ":return\n",
        "    cleaned text\n",
        "'''\n",
        "def utils_preprocess_text(text, flg_tokenize=1,flg_stemm=False, flg_lemm=True, flg_stopwords=True):\n",
        "    ## clean (convert to lowercase and remove punctuations and characters and then strip)\n",
        "    text = reg_expressions(text)\n",
        "\n",
        "    ## Tokenize (convert from string to list)\n",
        "    if flg_tokenize == 1:\n",
        "        text = tokenize_1(text)\n",
        "\n",
        "    elif flg_tokenize == 2:\n",
        "        text = tokenize_2(text)\n",
        "    \n",
        "    # remove Stopwords\n",
        "    if flg_stopwords == True:\n",
        "        text = stop_word_removal(text)\n",
        "        \n",
        "    ## Stemming (remove -ing, -ly, ...)\n",
        "    if flg_stemm == True:\n",
        "        text = stemming(text)\n",
        "        \n",
        "    ## Lemmatisation (convert the word into root word)\n",
        "    if flg_lemm == True:\n",
        "        text = lemmatization(text)\n",
        "            \n",
        "    ## back to string from list\n",
        "    text = \" \".join(text)\n",
        "    return text"
      ],
      "metadata": {
        "id": "PqINZiQlK4nK"
      },
      "execution_count": null,
      "outputs": []
    },
    {
      "cell_type": "code",
      "source": [
        "nltk.download('wordnet')\n",
        "nltk.download('omw-1.4') #Open Multilingual Wordnet"
      ],
      "metadata": {
        "colab": {
          "base_uri": "https://localhost:8080/"
        },
        "id": "ejcrmleqOShm",
        "outputId": "2eee093b-778d-4fba-b908-f42305352066"
      },
      "execution_count": null,
      "outputs": [
        {
          "output_type": "stream",
          "name": "stderr",
          "text": [
            "[nltk_data] Downloading package wordnet to /root/nltk_data...\n",
            "[nltk_data] Downloading package omw-1.4 to /root/nltk_data...\n"
          ]
        },
        {
          "output_type": "execute_result",
          "data": {
            "text/plain": [
              "True"
            ]
          },
          "metadata": {},
          "execution_count": 16
        }
      ]
    },
    {
      "cell_type": "markdown",
      "source": [
        "# Tokenization"
      ],
      "metadata": {
        "id": "wABOLy1NGRm-"
      }
    },
    {
      "cell_type": "code",
      "source": [
        "email_tokenization = email_df[\"body\"].apply(lambda x: utils_preprocess_text(x, flg_tokenize=2))\n",
        "email_tokenization[:5]"
      ],
      "metadata": {
        "colab": {
          "base_uri": "https://localhost:8080/"
        },
        "id": "lM5j6qcGLU0N",
        "outputId": "33f68101-29ca-4e5a-d4c9-d09cedad91b3"
      },
      "execution_count": null,
      "outputs": [
        {
          "output_type": "execute_result",
          "data": {
            "text/plain": [
              "0    follow note gave monday , 4 / 3 / 00 { preliminaryflow data provided daren } . please override pop ' daily volume { presently zero } reflect dailyactivity obtain gas control . change needed asap e...\n",
              "1                                                                                                                                                     ( see attached file : hplnol 09 . xl )- hplnol 09 . xl\n",
              "2    ho ho ho , ' around wonderful time year - - - neon leader retreat time ! know time year extremely hectic , ' tough think anything past holiday , life go past week december 25 january 1 , ' ' like ...\n",
              "3    abasement darer prudently fortuitous undergonelighthearted charm orinoco tasterrailroad affluent pornographic cuvierirvin parkhouse blameworthy chlorophyllrobed diagrammatic fogarty clear baydainc...\n",
              "4                deal book teco pvr revenue . understanding tecojust sends u check , ' received answer whether apredermined price associated deal teco let u know whatwe giving . continue chase deal need .\n",
              "Name: body, dtype: object"
            ]
          },
          "metadata": {},
          "execution_count": 17
        }
      ]
    },
    {
      "cell_type": "markdown",
      "source": [
        "# Stemming"
      ],
      "metadata": {
        "id": "rF5Y11HSGUbb"
      }
    },
    {
      "cell_type": "code",
      "source": [
        "email_stemming = email_df[\"body\"].apply(lambda x: utils_preprocess_text(x, flg_stemm=True))\n",
        "email_stemming[:5]"
      ],
      "metadata": {
        "colab": {
          "base_uri": "https://localhost:8080/"
        },
        "id": "bW3PlQ9IOdTu",
        "outputId": "6bc0c833-be5a-4a2a-fca3-a6ec3b4d5a2a"
      },
      "execution_count": null,
      "outputs": [
        {
          "output_type": "execute_result",
          "data": {
            "text/plain": [
              "0       follow note gave monday , 4 / 3 / 00 { preliminaryflow data provid daren } .pleas overrid pop ' daili volum { present zero } reflect dailyact obtain ga control .thi chang need asap econom purpos .\n",
              "1                                                                                                                                                       ( see attach file : hplnol 09 . xl )- hplnol 09 . xl\n",
              "2    ho ho ho , ' around wonder time year - - - neon leader retreat time !i know time year extrem hectic , ' tough think anyth past holiday , life go past week decemb 25 januari 1 , ' ' like think minu...\n",
              "3    aba darer prudent fortuit undergonelightheart charm orinoco tasterrailroad affluent pornograph cuvierirvin parkhous blameworthi chlorophyllrob diagrammat fogarti clear baydainconvenienc manag repr...\n",
              "4                                 deal book teco pvr revenu . understand tecojust send u check , ' receiv answer whether apredermin price associ deal teco let u know whatw give . continu chase deal need .\n",
              "Name: body, dtype: object"
            ]
          },
          "metadata": {},
          "execution_count": 18
        }
      ]
    },
    {
      "cell_type": "markdown",
      "source": [
        "# Lemmatization"
      ],
      "metadata": {
        "id": "-OCaU6pcGYZs"
      }
    },
    {
      "cell_type": "code",
      "source": [
        "email_lemmatization = email_df[\"body\"].apply(lambda x: utils_preprocess_text(x, flg_lemm=True))\n",
        "email_lemmatization[:5]"
      ],
      "metadata": {
        "colab": {
          "base_uri": "https://localhost:8080/"
        },
        "id": "okAFx2b8OjoS",
        "outputId": "e0cf6b50-b033-47f1-eb9f-d82301b5232c"
      },
      "execution_count": null,
      "outputs": [
        {
          "output_type": "execute_result",
          "data": {
            "text/plain": [
              "0    follow note gave monday , 4 / 3 / 00 { preliminaryflow data provided daren } .please override pop ' daily volume { presently zero } reflect dailyactivity obtain gas control .this change needed asa...\n",
              "1                                                                                                                                                     ( see attached file : hplnol 09 . xl )- hplnol 09 . xl\n",
              "2    ho ho ho , ' around wonderful time year - - - neon leader retreat time !i know time year extremely hectic , ' tough think anything past holiday , life go past week december 25 january 1 , ' ' like...\n",
              "3    abasement darer prudently fortuitous undergonelighthearted charm orinoco tasterrailroad affluent pornographic cuvierirvin parkhouse blameworthy chlorophyllrobed diagrammatic fogarty clear baydainc...\n",
              "4                deal book teco pvr revenue . understanding tecojust sends u check , ' received answer whether apredermined price associated deal teco let u know whatwe giving . continue chase deal need .\n",
              "Name: body, dtype: object"
            ]
          },
          "metadata": {},
          "execution_count": 19
        }
      ]
    },
    {
      "cell_type": "markdown",
      "source": [
        "# Stopwords"
      ],
      "metadata": {
        "id": "vBt3VPpVGVvX"
      }
    },
    {
      "cell_type": "code",
      "source": [
        "emailstopwords = email_df[\"body\"].apply(lambda x: utils_preprocess_text(x, flg_stopwords=True))\n",
        "emailstopwords[:5]"
      ],
      "metadata": {
        "colab": {
          "base_uri": "https://localhost:8080/"
        },
        "id": "cZt9yUDZOm7X",
        "outputId": "25efd1d2-5cff-4e23-a085-c1fcd0e4f707"
      },
      "execution_count": null,
      "outputs": [
        {
          "output_type": "execute_result",
          "data": {
            "text/plain": [
              "0    follow note gave monday , 4 / 3 / 00 { preliminaryflow data provided daren } .please override pop ' daily volume { presently zero } reflect dailyactivity obtain gas control .this change needed asa...\n",
              "1                                                                                                                                                     ( see attached file : hplnol 09 . xl )- hplnol 09 . xl\n",
              "2    ho ho ho , ' around wonderful time year - - - neon leader retreat time !i know time year extremely hectic , ' tough think anything past holiday , life go past week december 25 january 1 , ' ' like...\n",
              "3    abasement darer prudently fortuitous undergonelighthearted charm orinoco tasterrailroad affluent pornographic cuvierirvin parkhouse blameworthy chlorophyllrobed diagrammatic fogarty clear baydainc...\n",
              "4                deal book teco pvr revenue . understanding tecojust sends u check , ' received answer whether apredermined price associated deal teco let u know whatwe giving . continue chase deal need .\n",
              "Name: body, dtype: object"
            ]
          },
          "metadata": {},
          "execution_count": 20
        }
      ]
    }
  ]
}